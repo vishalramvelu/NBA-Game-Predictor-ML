{
 "cells": [
  {
   "cell_type": "code",
   "execution_count": null,
   "id": "6f4368e1-0ad1-4196-801a-4ae5f38ad876",
   "metadata": {
    "tags": []
   },
   "outputs": [],
   "source": [
    "import pandas as pd\n",
    "import numpy as np"
   ]
  },
  {
   "cell_type": "code",
   "execution_count": null,
   "id": "799d9131-b4ac-474d-bd82-954c2714d3a0",
   "metadata": {
    "tags": []
   },
   "outputs": [],
   "source": [
    "df = pd.read_csv(\"nba_games.csv\", index_col=0)"
   ]
  },
  {
   "cell_type": "code",
   "execution_count": null,
   "id": "12250f1a-095a-4824-8d61-406dc5f15a7c",
   "metadata": {},
   "outputs": [],
   "source": [
    "df"
   ]
  },
  {
   "cell_type": "code",
   "execution_count": null,
   "id": "2f8d2e18-4268-4298-a764-b0a02a16d82d",
   "metadata": {},
   "outputs": [],
   "source": [
    "df = df.sort_values(\"date\")"
   ]
  },
  {
   "cell_type": "code",
   "execution_count": null,
   "id": "2a753317-30da-4151-9b0d-c86b5f3aeac6",
   "metadata": {},
   "outputs": [],
   "source": [
    "df = df.reset_index(drop=True)"
   ]
  },
  {
   "cell_type": "code",
   "execution_count": null,
   "id": "88cfb9e6-0c77-499c-98e2-5656ec401834",
   "metadata": {},
   "outputs": [],
   "source": [
    "del df[\"mp.1\"]\n",
    "del df[\"mp_opp.1\"]\n",
    "del df[\"index_opp\"]"
   ]
  },
  {
   "cell_type": "code",
   "execution_count": null,
   "id": "b7ec1c08-7f57-4b50-a6b2-16075eb3e4e3",
   "metadata": {},
   "outputs": [],
   "source": [
    "def add_target(team):\n",
    "    team[\"target\"] = team[\"won\"].shift(-1)\n",
    "    return team\n",
    "\n",
    "df = df.groupby(\"team\", group_keys=False).apply(add_target)"
   ]
  },
  {
   "cell_type": "code",
   "execution_count": null,
   "id": "0ed82904-346e-4ccd-bc63-89caf5f9f0a6",
   "metadata": {},
   "outputs": [],
   "source": [
    "df[df[\"team\"] == \"WAS\"]"
   ]
  },
  {
   "cell_type": "code",
   "execution_count": null,
   "id": "8e1be446-4a38-41fa-a8b4-74fded0b4995",
   "metadata": {},
   "outputs": [],
   "source": [
    "df[\"target\"][pd.isnull(df[\"target\"])] = 2\n",
    "df[\"target\"] = df[\"target\"].astype(int, errors=\"ignore\")"
   ]
  },
  {
   "cell_type": "code",
   "execution_count": null,
   "id": "839c795d-f400-4f64-915a-5a4b503c1742",
   "metadata": {},
   "outputs": [],
   "source": [
    "df[\"won\"].value_counts()"
   ]
  },
  {
   "cell_type": "code",
   "execution_count": null,
   "id": "1f0e56ff-aaa0-4fa7-9d13-b86e6d30ca6b",
   "metadata": {},
   "outputs": [],
   "source": [
    "df[\"target\"].value_counts()"
   ]
  },
  {
   "cell_type": "code",
   "execution_count": null,
   "id": "faa6886b-33df-42e4-a398-f4ed64184b95",
   "metadata": {},
   "outputs": [],
   "source": [
    "nulls = pd.isnull(df).sum()"
   ]
  },
  {
   "cell_type": "code",
   "execution_count": null,
   "id": "374f8603-f8e8-413c-81e8-e5c544ea7c54",
   "metadata": {},
   "outputs": [],
   "source": [
    "nulls = nulls[nulls > 0]"
   ]
  },
  {
   "cell_type": "code",
   "execution_count": null,
   "id": "f73c886a-ea86-4e1b-8c7d-94349ac24805",
   "metadata": {},
   "outputs": [],
   "source": [
    "valid_columns = df.columns[~df.columns.isin(nulls.index)]"
   ]
  },
  {
   "cell_type": "code",
   "execution_count": null,
   "id": "93c789b4-6e7a-4657-a306-223fcec69adc",
   "metadata": {},
   "outputs": [],
   "source": [
    "valid_columns"
   ]
  },
  {
   "cell_type": "code",
   "execution_count": null,
   "id": "9790fe6b-fbff-4a69-92f1-d9adb6fd7ca2",
   "metadata": {},
   "outputs": [],
   "source": [
    "df = df[valid_columns].copy()"
   ]
  },
  {
   "cell_type": "code",
   "execution_count": null,
   "id": "4168ed95-600c-4910-945b-dc5d808db3bd",
   "metadata": {},
   "outputs": [],
   "source": [
    "df"
   ]
  },
  {
   "cell_type": "code",
   "execution_count": null,
   "id": "d5f58b88-88cb-4bc2-9661-9d81b33a0ffc",
   "metadata": {},
   "outputs": [],
   "source": [
    "# Modelling\n",
    "from sklearn.ensemble import RandomForestClassifier\n",
    "from sklearn.metrics import accuracy_score, confusion_matrix, precision_score, recall_score, ConfusionMatrixDisplay\n",
    "from sklearn.feature_selection import SequentialFeatureSelector\n",
    "from sklearn.model_selection import TimeSeriesSplit\n",
    "from sklearn.model_selection import RandomizedSearchCV, train_test_split\n",
    "from scipy.stats import randint\n",
    "\n",
    "\n",
    "rf = RandomForestClassifier(n_estimators= 100)\n",
    "\n",
    "split = TimeSeriesSplit(n_splits=3)\n",
    "\n",
    "sfs = SequentialFeatureSelector(rf, \n",
    "                                n_features_to_select=25, \n",
    "                                direction=\"forward\",\n",
    "                                cv=split\n",
    "                               )"
   ]
  },
  {
   "cell_type": "code",
   "execution_count": null,
   "id": "de4b6020-35c2-4508-8de5-d67e22ca82a0",
   "metadata": {},
   "outputs": [],
   "source": [
    "removed_columns = [\"season\", \"date\", \"won\", \"target\", \"team\", \"team_opp\"]\n",
    "selected_columns = df.columns[~df.columns.isin(removed_columns)]"
   ]
  },
  {
   "cell_type": "code",
   "execution_count": null,
   "id": "81f9cfcc-79f4-4b19-86d8-0ca5dc5d4e2a",
   "metadata": {},
   "outputs": [],
   "source": [
    "from sklearn.preprocessing import MinMaxScaler\n",
    "\n",
    "scaler = MinMaxScaler()\n",
    "df[selected_columns] = scaler.fit_transform(df[selected_columns])"
   ]
  },
  {
   "cell_type": "code",
   "execution_count": null,
   "id": "ca302ae5-fe49-40a1-a679-257b43828665",
   "metadata": {},
   "outputs": [],
   "source": [
    "df"
   ]
  },
  {
   "cell_type": "code",
   "execution_count": null,
   "id": "c4387db2-a637-4ac1-8cce-8891b3024777",
   "metadata": {},
   "outputs": [],
   "source": [
    "sfs.fit(df[selected_columns], df[\"target\"])"
   ]
  },
  {
   "cell_type": "code",
   "execution_count": null,
   "id": "447c0caf-28be-4af3-8485-057e7cf71817",
   "metadata": {},
   "outputs": [],
   "source": [
    "predictors = list(selected_columns[sfs.get_support()])"
   ]
  },
  {
   "cell_type": "code",
   "execution_count": null,
   "id": "546a41e9-c8c6-4eaf-8ec7-fb7151702630",
   "metadata": {},
   "outputs": [],
   "source": [
    "predictors"
   ]
  },
  {
   "cell_type": "code",
   "execution_count": null,
   "id": "3beb4ce1-6a59-43a4-9b3f-7a551063b734",
   "metadata": {
    "tags": []
   },
   "outputs": [],
   "source": [
    "def backtest(data, model, predictors, start=2, step=1):\n",
    "    all_predictions = []\n",
    "    \n",
    "    seasons = sorted(data[\"season\"].unique())\n",
    "    \n",
    "    for i in range(start, len(seasons), step):\n",
    "        season = seasons[i]\n",
    "        train = data[data[\"season\"] < season]\n",
    "        test = data[data[\"season\"] == season]\n",
    "        \n",
    "        model.fit(train[predictors], train[\"target\"])\n",
    "        \n",
    "        preds = model.predict(test[predictors])\n",
    "        preds = pd.Series(preds, index=test.index)\n",
    "        combined = pd.concat([test[\"target\"], preds], axis=1)\n",
    "        combined.columns = [\"actual\", \"prediction\"]\n",
    "        \n",
    "        all_predictions.append(combined)\n",
    "        \n",
    "    return pd.concat(all_predictions)\n",
    "        \n",
    "   "
   ]
  },
  {
   "cell_type": "code",
   "execution_count": null,
   "id": "1d797708-d3f8-42b4-8fca-bea039169db4",
   "metadata": {},
   "outputs": [],
   "source": [
    "predictions = backtest(df, rf, predictors)"
   ]
  },
  {
   "cell_type": "code",
   "execution_count": null,
   "id": "965b669a-e7a5-4566-900c-71354a7c48eb",
   "metadata": {},
   "outputs": [],
   "source": [
    "predictions"
   ]
  },
  {
   "cell_type": "code",
   "execution_count": null,
   "id": "11f3eefa-12b6-4984-98bc-51c3be2d39ce",
   "metadata": {
    "tags": []
   },
   "outputs": [],
   "source": [
    "from sklearn.metrics import accuracy_score\n",
    "\n",
    "accuracy_score(predictions[\"actual\"], predictions[\"prediction\"])"
   ]
  },
  {
   "cell_type": "code",
   "execution_count": null,
   "id": "6d827b8b-6356-4f24-8a1e-bdf000d65375",
   "metadata": {},
   "outputs": [],
   "source": [
    "df.groupby([\"home\"]).apply(lambda x: x[x[\"won\"] == 1].shape[0] / x.shape[0])"
   ]
  },
  {
   "cell_type": "code",
   "execution_count": null,
   "id": "9993ec7a-3303-4f4f-8d99-4bb535c70beb",
   "metadata": {},
   "outputs": [],
   "source": [
    "df"
   ]
  },
  {
   "cell_type": "code",
   "execution_count": null,
   "id": "3589a4b7-a843-4e67-a99a-28db7674dbc6",
   "metadata": {},
   "outputs": [],
   "source": [
    "df_rolling = df[list(selected_columns) + [\"won\", \"team\", \"season\"]]\n",
    "\n",
    "def find_team_averages(team):\n",
    "    rolling = team.rolling(5).mean()\n",
    "    return rolling\n",
    "\n",
    "df_rolling = df_rolling.groupby([\"team\", \"season\"], group_keys=False).apply(find_team_averages)"
   ]
  },
  {
   "cell_type": "code",
   "execution_count": null,
   "id": "d4c50efb-bca1-41bd-9e63-91193d20605d",
   "metadata": {},
   "outputs": [],
   "source": [
    "df_continous"
   ]
  },
  {
   "cell_type": "code",
   "execution_count": null,
   "id": "4bc538e2-1b06-470a-8826-51f04933733f",
   "metadata": {},
   "outputs": [],
   "source": [
    "continous_cols = [f\"{col}_5\" for col in df_continous.columns]\n",
    "df_continous.columns = continous_cols\n",
    "df = pd.concat([df, df_continous], axis=1)"
   ]
  },
  {
   "cell_type": "code",
   "execution_count": null,
   "id": "1f704952-1e3d-4dc1-9ce4-510faedd7e0f",
   "metadata": {},
   "outputs": [],
   "source": [
    "df = df.dropna()"
   ]
  },
  {
   "cell_type": "code",
   "execution_count": null,
   "id": "53cd4173-f9bf-4101-9b90-84e49c2bc0b9",
   "metadata": {},
   "outputs": [],
   "source": [
    "df"
   ]
  },
  {
   "cell_type": "code",
   "execution_count": null,
   "id": "4adb9ef5-839d-4d54-958f-ba85b6dcff2c",
   "metadata": {},
   "outputs": [],
   "source": [
    "def shift_col(team, col_name):\n",
    "    next_col = team[col_name].shift(-1)\n",
    "    return next_col\n",
    "\n",
    "def add_col(df, col_name):\n",
    "    return df.groupby(\"team\", group_keys=False).apply(lambda x: shift_col(x, col_name))\n",
    "\n",
    "df[\"home_next\"] = add_col(df, \"home\")\n",
    "df[\"team_opp_next\"] = add_col(df, \"team_opp\")\n",
    "df[\"date_next\"] = add_col(df, \"date\")"
   ]
  },
  {
   "cell_type": "code",
   "execution_count": null,
   "id": "d17efa0c-da27-4cab-bfcb-46dbba01156c",
   "metadata": {},
   "outputs": [],
   "source": [
    "df"
   ]
  },
  {
   "cell_type": "code",
   "execution_count": null,
   "id": "7141cb99-e5db-4f25-a72d-ede049b64d6a",
   "metadata": {},
   "outputs": [],
   "source": [
    "full = df.merge(df[continous_cols + [\"team_opp_next\", \"date_next\", \"team\"]], left_on=[\"team\", \"date_next\"], right_on=[\"team_opp_next\", \"date_next\"])"
   ]
  },
  {
   "cell_type": "code",
   "execution_count": null,
   "id": "575ddae2-2477-4f21-9295-41b1341a417f",
   "metadata": {},
   "outputs": [],
   "source": [
    "full"
   ]
  },
  {
   "cell_type": "code",
   "execution_count": null,
   "id": "f74f6ee3-013d-40a7-9366-6ccaa2aea32d",
   "metadata": {},
   "outputs": [],
   "source": [
    "full[[\"team_x\", \"team_opp_next_x\", \"team_y\", \"team_opp_next_y\", \"date_next\"]]"
   ]
  },
  {
   "cell_type": "code",
   "execution_count": null,
   "id": "c48970c8-4d54-4f1e-a005-f0f7afe446f6",
   "metadata": {},
   "outputs": [],
   "source": [
    "removed_columns = list(full.columns[full.dtypes == \"object\"]) + removed_columns"
   ]
  },
  {
   "cell_type": "code",
   "execution_count": null,
   "id": "424ea6ba-d457-4496-bc3e-84938e01f222",
   "metadata": {},
   "outputs": [],
   "source": [
    "removed_columns"
   ]
  },
  {
   "cell_type": "code",
   "execution_count": null,
   "id": "e9914920-de1a-435f-aeb4-e1cf803579e0",
   "metadata": {},
   "outputs": [],
   "source": [
    "selected_columns = full.columns[~full.columns.isin(removed_columns)]\n",
    "sfs.fit(full[selected_columns], full[\"target\"])"
   ]
  },
  {
   "cell_type": "code",
   "execution_count": null,
   "id": "5ec951a4-e80a-4a3f-b6a0-2cd263d09c67",
   "metadata": {},
   "outputs": [],
   "source": [
    "predictors = list(selected_columns[sfs.get_support()])"
   ]
  },
  {
   "cell_type": "code",
   "execution_count": null,
   "id": "50edbb78-fb9e-4b86-94f6-ec10a635f185",
   "metadata": {},
   "outputs": [],
   "source": [
    "predictors"
   ]
  },
  {
   "cell_type": "code",
   "execution_count": null,
   "id": "17eab558-e5dd-43b5-bd2f-841a60f96c81",
   "metadata": {},
   "outputs": [],
   "source": [
    "predictions = backtest(full, rf, predictors)"
   ]
  },
  {
   "cell_type": "code",
   "execution_count": null,
   "id": "8f0805a7-9aaa-4069-a75b-c5b124eeb797",
   "metadata": {},
   "outputs": [],
   "source": [
    "accuracy_score(predictions[\"actual\"], predictions[\"prediction\"])"
   ]
  },
  {
   "cell_type": "code",
   "execution_count": null,
   "id": "3efd4362-deb8-44f1-9cf4-3d75fb11e213",
   "metadata": {},
   "outputs": [],
   "source": []
  }
 ],
 "metadata": {
  "kernelspec": {
   "display_name": "Python 3 (ipykernel)",
   "language": "python",
   "name": "python3"
  },
  "language_info": {
   "codemirror_mode": {
    "name": "ipython",
    "version": 3
   },
   "file_extension": ".py",
   "mimetype": "text/x-python",
   "name": "python",
   "nbconvert_exporter": "python",
   "pygments_lexer": "ipython3",
   "version": "3.10.9"
  }
 },
 "nbformat": 4,
 "nbformat_minor": 5
}
